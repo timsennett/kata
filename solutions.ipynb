{
 "cells": [
  {
   "cell_type": "markdown",
   "metadata": {},
   "source": [
    "## 09/21/2020\n",
    "### [String Array Duplicates](https://www.codewars.com/kata/59f08f89a5e129c543000069/train/python) // Code Wars\n",
    "\n",
    "*Remove all consecutive duplicate letters from each string in the array.*\n",
    "\n",
    "#### Solution:"
   ]
  },
  {
   "cell_type": "code",
   "execution_count": 1,
   "metadata": {
    "ExecuteTime": {
     "end_time": "2020-09-24T04:59:34.866554Z",
     "start_time": "2020-09-24T04:59:34.854590Z"
    }
   },
   "outputs": [],
   "source": [
    "def dup(arry):\n",
    "    new_arry = []\n",
    "    for string in arry:\n",
    "        i = 1\n",
    "        while i < len(string):\n",
    "            if string[i] == string[i-1]:\n",
    "                string = string[:i-1] + string[i:]\n",
    "            else:\n",
    "                i += 1\n",
    "        new_arry.append(string)\n",
    "    return new_arry"
   ]
  },
  {
   "cell_type": "code",
   "execution_count": 2,
   "metadata": {
    "ExecuteTime": {
     "end_time": "2020-09-24T04:59:35.273634Z",
     "start_time": "2020-09-24T04:59:35.252636Z"
    }
   },
   "outputs": [
    {
     "data": {
      "text/plain": [
       "['abracadabra', 'alote', 'asese']"
      ]
     },
     "execution_count": 2,
     "metadata": {},
     "output_type": "execute_result"
    }
   ],
   "source": [
    "dup([\"abracadabra\",\"allottee\",\"assessee\"])"
   ]
  },
  {
   "cell_type": "markdown",
   "metadata": {},
   "source": [
    "## 09/22/2020\n",
    "### [Is a number prime?](https://www.codewars.com/kata/5262119038c0985a5b00029f/train/python) // Code Wars\n",
    "\n",
    "*Define a function that takes one integer argument and returns logical value `true` or `false` depending on if the integer is a prime.*\n",
    "\n",
    "#### Solution:"
   ]
  },
  {
   "cell_type": "code",
   "execution_count": 3,
   "metadata": {
    "ExecuteTime": {
     "end_time": "2020-09-24T05:00:30.003719Z",
     "start_time": "2020-09-24T05:00:29.997429Z"
    }
   },
   "outputs": [],
   "source": [
    "import math\n",
    "def is_prime(num):\n",
    "    if num < 2:\n",
    "        return False\n",
    "    elif all(num % y != 0 for y in range(2, int(math.sqrt(num))+1)):\n",
    "        return True\n",
    "    else:\n",
    "        return False"
   ]
  },
  {
   "cell_type": "code",
   "execution_count": 4,
   "metadata": {
    "ExecuteTime": {
     "end_time": "2020-09-24T05:00:30.492637Z",
     "start_time": "2020-09-24T05:00:30.481968Z"
    }
   },
   "outputs": [
    {
     "data": {
      "text/plain": [
       "True"
      ]
     },
     "execution_count": 4,
     "metadata": {},
     "output_type": "execute_result"
    }
   ],
   "source": [
    "is_prime(73)"
   ]
  },
  {
   "cell_type": "code",
   "execution_count": 5,
   "metadata": {
    "ExecuteTime": {
     "end_time": "2020-09-24T05:00:30.972853Z",
     "start_time": "2020-09-24T05:00:30.910535Z"
    }
   },
   "outputs": [
    {
     "data": {
      "text/plain": [
       "False"
      ]
     },
     "execution_count": 5,
     "metadata": {},
     "output_type": "execute_result"
    }
   ],
   "source": [
    "is_prime(975)"
   ]
  },
  {
   "cell_type": "code",
   "execution_count": 6,
   "metadata": {
    "ExecuteTime": {
     "end_time": "2020-09-24T05:00:31.308028Z",
     "start_time": "2020-09-24T05:00:31.300706Z"
    }
   },
   "outputs": [
    {
     "data": {
      "text/plain": [
       "False"
      ]
     },
     "execution_count": 6,
     "metadata": {},
     "output_type": "execute_result"
    }
   ],
   "source": [
    "is_prime(-2)"
   ]
  },
  {
   "cell_type": "markdown",
   "metadata": {},
   "source": [
    "## 09/25/2020\n",
    "### [Numbers in strings](https://www.codewars.com/kata/59dd2c38f703c4ae5e000014/train/python) // Code Wars\n",
    "\n",
    "*...Given a string that has lowercase letters and numbers...compare the number groupings and return the largest number.*\n",
    "\n",
    "#### Solution:"
   ]
  },
  {
   "cell_type": "code",
   "execution_count": 57,
   "metadata": {
    "ExecuteTime": {
     "end_time": "2020-09-25T13:28:05.193562Z",
     "start_time": "2020-09-25T13:28:05.186944Z"
    }
   },
   "outputs": [],
   "source": [
    "import re\n",
    "def solve(s):\n",
    "    # \\d looks for digits, adding + makes it look for groups of digits\n",
    "    p = re.compile('\\d+')\n",
    "    # convert list of strings to list of ints\n",
    "    return max(list(map(int, p.findall(s))))"
   ]
  },
  {
   "cell_type": "code",
   "execution_count": 58,
   "metadata": {
    "ExecuteTime": {
     "end_time": "2020-09-25T13:28:05.560811Z",
     "start_time": "2020-09-25T13:28:05.547416Z"
    }
   },
   "outputs": [
    {
     "data": {
      "text/plain": [
       "61"
      ]
     },
     "execution_count": 58,
     "metadata": {},
     "output_type": "execute_result"
    }
   ],
   "source": [
    "solve(\"vih61w8oohj5\")"
   ]
  },
  {
   "cell_type": "code",
   "execution_count": 65,
   "metadata": {
    "ExecuteTime": {
     "end_time": "2020-09-25T13:38:55.327018Z",
     "start_time": "2020-09-25T13:38:55.317158Z"
    },
    "scrolled": true
   },
   "outputs": [
    {
     "data": {
      "text/plain": [
       "2002"
      ]
     },
     "execution_count": 65,
     "metadata": {},
     "output_type": "execute_result"
    }
   ],
   "source": [
    "solve(\"I flew a kite the 30th day of the 7th month of the year 2002.\")"
   ]
  },
  {
   "cell_type": "markdown",
   "metadata": {},
   "source": [
    "## 09/26/2020\n",
    "### [Pete, the baker](https://www.codewars.com/kata/525c65e51bf619685c000059) // Code Wars\n",
    "\n",
    "*Write a function `cakes()`, which takes the recipe (object) and the available ingredients (also an object) and returns the maximum number of cakes Pete can bake (integer). For simplicity there are no units for the amounts (e.g. 1 lb of flour or 200 g of sugar are simply 1 or 200). Ingredients that are not present in the objects, can be considered as 0.*\n",
    "\n",
    "#### Solution:"
   ]
  },
  {
   "cell_type": "code",
   "execution_count": 61,
   "metadata": {
    "ExecuteTime": {
     "end_time": "2020-09-27T02:13:16.115196Z",
     "start_time": "2020-09-27T02:13:16.107288Z"
    }
   },
   "outputs": [],
   "source": [
    "def cakes(recipe, ingredients):\n",
    "    number_cakes = []\n",
    "    for key, val in recipe.items():\n",
    "        if key not in ingredients:\n",
    "            return 0\n",
    "    for key, val in ingredients.items():\n",
    "        if key not in recipe:\n",
    "            continue\n",
    "        ingredient_servings = val // recipe[key]\n",
    "        number_cakes.append(ingredient_servings)\n",
    "    return min(number_cakes)"
   ]
  },
  {
   "cell_type": "code",
   "execution_count": 62,
   "metadata": {
    "ExecuteTime": {
     "end_time": "2020-09-27T02:13:16.662059Z",
     "start_time": "2020-09-27T02:13:16.652813Z"
    }
   },
   "outputs": [
    {
     "data": {
      "text/plain": [
       "0"
      ]
     },
     "execution_count": 62,
     "metadata": {},
     "output_type": "execute_result"
    }
   ],
   "source": [
    "cakes({'apples': 3, 'flour': 300, 'sugar': 150, 'milk': 100, 'oil': 100},\n",
    "      {'sugar': 500, 'flour': 2000, 'milk': 2000})"
   ]
  },
  {
   "cell_type": "code",
   "execution_count": 63,
   "metadata": {
    "ExecuteTime": {
     "end_time": "2020-09-27T02:13:17.409889Z",
     "start_time": "2020-09-27T02:13:17.392548Z"
    }
   },
   "outputs": [
    {
     "data": {
      "text/plain": [
       "2"
      ]
     },
     "execution_count": 63,
     "metadata": {},
     "output_type": "execute_result"
    }
   ],
   "source": [
    "cakes({'flour': 500, 'sugar': 200, 'eggs': 1},\n",
    "      {'flour': 1200, 'sugar': 1200, 'eggs': 5, 'milk': 200})"
   ]
  },
  {
   "cell_type": "markdown",
   "metadata": {},
   "source": [
    "## 09/26/2020\n",
    "### [Simple consecutive pairs](https://www.codewars.com/kata/5a3e1319b6486ac96f000049) // Code Wars\n",
    "\n",
    "*...Return the count of pairs that have consecutive numbers [without overlapping any indices].*\n",
    "\n",
    "#### Solution:"
   ]
  },
  {
   "cell_type": "code",
   "execution_count": 4,
   "metadata": {
    "ExecuteTime": {
     "end_time": "2020-09-29T19:06:02.541246Z",
     "start_time": "2020-09-29T19:06:02.531421Z"
    }
   },
   "outputs": [],
   "source": [
    "def pairs(arg):\n",
    "    pairs = []\n",
    "    if len(arg) % 2 == 1:\n",
    "        arg = arg[:-1]\n",
    "    for index, num in enumerate(arg):\n",
    "        if index % 2 == 0:\n",
    "            if num-1 == arg[index+1] or num+1 == arg[index+1]:\n",
    "                pairs.append([num, arg[index+1]])\n",
    "    print(pairs)\n",
    "    return len(pairs)"
   ]
  },
  {
   "cell_type": "code",
   "execution_count": 5,
   "metadata": {
    "ExecuteTime": {
     "end_time": "2020-09-29T19:06:02.933081Z",
     "start_time": "2020-09-29T19:06:02.920125Z"
    },
    "scrolled": true
   },
   "outputs": [
    {
     "name": "stdout",
     "output_type": "stream",
     "text": [
      "[[21, 20], [95, 94]]\n"
     ]
    },
    {
     "data": {
      "text/plain": [
       "2"
      ]
     },
     "execution_count": 5,
     "metadata": {},
     "output_type": "execute_result"
    }
   ],
   "source": [
    "pairs([21, 20, 22, 40, 39, -56, 30, -55, 95, 94])"
   ]
  },
  {
   "cell_type": "code",
   "execution_count": 6,
   "metadata": {
    "ExecuteTime": {
     "end_time": "2020-09-29T19:06:03.463253Z",
     "start_time": "2020-09-29T19:06:03.455597Z"
    }
   },
   "outputs": [
    {
     "name": "stdout",
     "output_type": "stream",
     "text": [
      "[[1, 2], [-4, -3], [7, 6]]\n"
     ]
    },
    {
     "data": {
      "text/plain": [
       "3"
      ]
     },
     "execution_count": 6,
     "metadata": {},
     "output_type": "execute_result"
    }
   ],
   "source": [
    "pairs([1,2,5,8,-4,-3,7,6,5])"
   ]
  },
  {
   "cell_type": "markdown",
   "metadata": {},
   "source": [
    "## 10/05/2020\n",
    "### [Where my anagrams at?](https://www.codewars.com/kata/523a86aa4230ebb5420001e1) // Code Wars\n",
    "\n",
    "*Write a function that will find all the anagrams of a word from a list...*\n",
    "\n",
    "#### Solution:"
   ]
  },
  {
   "cell_type": "code",
   "execution_count": 11,
   "metadata": {
    "ExecuteTime": {
     "end_time": "2020-10-05T17:22:25.846495Z",
     "start_time": "2020-10-05T17:22:25.836102Z"
    }
   },
   "outputs": [],
   "source": [
    "def anagrams(word, words):\n",
    "    anagrams = []\n",
    "    word = ''.join(sorted(word))\n",
    "    for x in words:\n",
    "        if word == ''.join(sorted(x)):\n",
    "            anagrams.append(x)\n",
    "    return anagrams"
   ]
  },
  {
   "cell_type": "code",
   "execution_count": 10,
   "metadata": {
    "ExecuteTime": {
     "end_time": "2020-10-05T17:22:19.408228Z",
     "start_time": "2020-10-05T17:22:19.361798Z"
    }
   },
   "outputs": [
    {
     "data": {
      "text/plain": [
       "['aabb', 'bbaa']"
      ]
     },
     "execution_count": 10,
     "metadata": {},
     "output_type": "execute_result"
    }
   ],
   "source": [
    "anagrams('abba', ['aabb', 'abcd', 'bbaa', 'dada'])\n",
    "\n",
    "# ['aabb', 'bbaa']"
   ]
  },
  {
   "cell_type": "markdown",
   "metadata": {},
   "source": [
    "## 10/11/2020\n",
    "### [Simple time difference](https://www.codewars.com/kata/5b76a34ff71e5de9db0000f2) // Code Wars\n",
    "\n",
    "*...Determine the maximum time interval between alarms. Each alarm starts ringing at the beginning of the corresponding minute and rings for exactly one minute. The times in the array are not in chronological order. Ignore duplicate times, if any.*\n",
    "\n",
    "#### Solution:"
   ]
  },
  {
   "cell_type": "code",
   "execution_count": 54,
   "metadata": {
    "ExecuteTime": {
     "end_time": "2020-10-11T16:49:37.110303Z",
     "start_time": "2020-10-11T16:49:37.093700Z"
    }
   },
   "outputs": [],
   "source": [
    "from datetime import timedelta\n",
    "import datetime\n",
    "def solve(arr):\n",
    "    arr.sort(key = lambda date: datetime.datetime.strptime(date, '%H:%M'))\n",
    "    times = [datetime.datetime.strptime(time, '%H:%M') for time in arr]\n",
    "    intervals = []\n",
    "    for i in range(len(times)-1):\n",
    "        interval = times[i+1] - times[i]\n",
    "        intervals.append(interval)\n",
    "    intervals.append((times[0] + timedelta(1)) - times[-1])\n",
    "    max_interval = str(max(intervals) - timedelta(minutes=1))[:-3]\n",
    "    if len(max_interval) == 4:\n",
    "        max_interval = '0'+ max_interval\n",
    "    return max_interval"
   ]
  },
  {
   "cell_type": "code",
   "execution_count": 55,
   "metadata": {
    "ExecuteTime": {
     "end_time": "2020-10-11T16:49:37.709048Z",
     "start_time": "2020-10-11T16:49:37.701243Z"
    }
   },
   "outputs": [
    {
     "name": "stdout",
     "output_type": "stream",
     "text": [
      "['04:22', '06:24', '18:05', '23:00']\n"
     ]
    },
    {
     "data": {
      "text/plain": [
       "'11:40'"
      ]
     },
     "execution_count": 55,
     "metadata": {},
     "output_type": "execute_result"
    }
   ],
   "source": [
    "solve([\"23:00\",\"04:22\",\"18:05\",\"06:24\"])"
   ]
  },
  {
   "cell_type": "code",
   "execution_count": 56,
   "metadata": {
    "ExecuteTime": {
     "end_time": "2020-10-11T16:49:38.407832Z",
     "start_time": "2020-10-11T16:49:38.398366Z"
    },
    "scrolled": true
   },
   "outputs": [
    {
     "name": "stdout",
     "output_type": "stream",
     "text": [
      "['06:25', '14:51', '15:30', '15:34', '21:14']\n"
     ]
    },
    {
     "data": {
      "text/plain": [
       "'09:10'"
      ]
     },
     "execution_count": 56,
     "metadata": {},
     "output_type": "execute_result"
    }
   ],
   "source": [
    "solve([\"21:14\", \"15:34\", \"14:51\", \"06:25\", \"15:30\"])"
   ]
  }
 ],
 "metadata": {
  "kernelspec": {
   "display_name": "Python 3",
   "language": "python",
   "name": "python3"
  },
  "language_info": {
   "codemirror_mode": {
    "name": "ipython",
    "version": 3
   },
   "file_extension": ".py",
   "mimetype": "text/x-python",
   "name": "python",
   "nbconvert_exporter": "python",
   "pygments_lexer": "ipython3",
   "version": "3.6.6"
  }
 },
 "nbformat": 4,
 "nbformat_minor": 2
}
