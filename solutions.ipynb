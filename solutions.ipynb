{
 "cells": [
  {
   "cell_type": "markdown",
   "metadata": {},
   "source": [
    "## 09/21/2020\n",
    "### [String Array Duplicates](https://www.codewars.com/kata/59f08f89a5e129c543000069/train/python) // Code Wars\n",
    "\n",
    "*Remove all consecutive duplicate letters from each string in the array.*\n",
    "\n",
    "#### Solution:"
   ]
  },
  {
   "cell_type": "code",
   "execution_count": 1,
   "metadata": {
    "ExecuteTime": {
     "end_time": "2020-09-24T04:59:34.866554Z",
     "start_time": "2020-09-24T04:59:34.854590Z"
    }
   },
   "outputs": [],
   "source": [
    "def dup(arry):\n",
    "    new_arry = []\n",
    "    for string in arry:\n",
    "        i = 1\n",
    "        while i < len(string):\n",
    "            if string[i] == string[i-1]:\n",
    "                string = string[:i-1] + string[i:]\n",
    "            else:\n",
    "                i += 1\n",
    "        new_arry.append(string)\n",
    "    return new_arry"
   ]
  },
  {
   "cell_type": "code",
   "execution_count": 2,
   "metadata": {
    "ExecuteTime": {
     "end_time": "2020-09-24T04:59:35.273634Z",
     "start_time": "2020-09-24T04:59:35.252636Z"
    }
   },
   "outputs": [
    {
     "data": {
      "text/plain": [
       "['abracadabra', 'alote', 'asese']"
      ]
     },
     "execution_count": 2,
     "metadata": {},
     "output_type": "execute_result"
    }
   ],
   "source": [
    "dup([\"abracadabra\",\"allottee\",\"assessee\"])"
   ]
  },
  {
   "cell_type": "markdown",
   "metadata": {},
   "source": [
    "## 09/22/2020\n",
    "### [Is a number prime?](https://www.codewars.com/kata/5262119038c0985a5b00029f/train/python) // Code Wars\n",
    "\n",
    "*Define a function that takes one integer argument and returns logical value `true` or `false` depending on if the integer is a prime.*\n",
    "\n",
    "#### Solution:"
   ]
  },
  {
   "cell_type": "code",
   "execution_count": 3,
   "metadata": {
    "ExecuteTime": {
     "end_time": "2020-09-24T05:00:30.003719Z",
     "start_time": "2020-09-24T05:00:29.997429Z"
    }
   },
   "outputs": [],
   "source": [
    "import math\n",
    "def is_prime(num):\n",
    "    if num < 2:\n",
    "        return False\n",
    "    elif all(num % y != 0 for y in range(2, int(math.sqrt(num))+1)):\n",
    "        return True\n",
    "    else:\n",
    "        return False"
   ]
  },
  {
   "cell_type": "code",
   "execution_count": 4,
   "metadata": {
    "ExecuteTime": {
     "end_time": "2020-09-24T05:00:30.492637Z",
     "start_time": "2020-09-24T05:00:30.481968Z"
    }
   },
   "outputs": [
    {
     "data": {
      "text/plain": [
       "True"
      ]
     },
     "execution_count": 4,
     "metadata": {},
     "output_type": "execute_result"
    }
   ],
   "source": [
    "is_prime(73)"
   ]
  },
  {
   "cell_type": "code",
   "execution_count": 5,
   "metadata": {
    "ExecuteTime": {
     "end_time": "2020-09-24T05:00:30.972853Z",
     "start_time": "2020-09-24T05:00:30.910535Z"
    }
   },
   "outputs": [
    {
     "data": {
      "text/plain": [
       "False"
      ]
     },
     "execution_count": 5,
     "metadata": {},
     "output_type": "execute_result"
    }
   ],
   "source": [
    "is_prime(975)"
   ]
  },
  {
   "cell_type": "code",
   "execution_count": 6,
   "metadata": {
    "ExecuteTime": {
     "end_time": "2020-09-24T05:00:31.308028Z",
     "start_time": "2020-09-24T05:00:31.300706Z"
    }
   },
   "outputs": [
    {
     "data": {
      "text/plain": [
       "False"
      ]
     },
     "execution_count": 6,
     "metadata": {},
     "output_type": "execute_result"
    }
   ],
   "source": [
    "is_prime(-2)"
   ]
  },
  {
   "cell_type": "markdown",
   "metadata": {},
   "source": [
    "## 09/25/2020\n",
    "### [Numbers in strings](https://www.codewars.com/kata/59dd2c38f703c4ae5e000014/train/python) // Code Wars\n",
    "\n",
    "*...Given a string that has lowercase letters and numbers...compare the number groupings and return the largest number.*\n",
    "\n",
    "#### Solution:"
   ]
  },
  {
   "cell_type": "code",
   "execution_count": 57,
   "metadata": {
    "ExecuteTime": {
     "end_time": "2020-09-25T13:28:05.193562Z",
     "start_time": "2020-09-25T13:28:05.186944Z"
    }
   },
   "outputs": [],
   "source": [
    "import re\n",
    "def solve(s):\n",
    "    # \\d looks for digits, adding + makes it look for groups of digits\n",
    "    p = re.compile('\\d+')\n",
    "    # convert list of strings to list of ints\n",
    "    return max(list(map(int, p.findall(s))))"
   ]
  },
  {
   "cell_type": "code",
   "execution_count": 58,
   "metadata": {
    "ExecuteTime": {
     "end_time": "2020-09-25T13:28:05.560811Z",
     "start_time": "2020-09-25T13:28:05.547416Z"
    }
   },
   "outputs": [
    {
     "data": {
      "text/plain": [
       "61"
      ]
     },
     "execution_count": 58,
     "metadata": {},
     "output_type": "execute_result"
    }
   ],
   "source": [
    "solve(\"vih61w8oohj5\")"
   ]
  },
  {
   "cell_type": "code",
   "execution_count": 65,
   "metadata": {
    "ExecuteTime": {
     "end_time": "2020-09-25T13:38:55.327018Z",
     "start_time": "2020-09-25T13:38:55.317158Z"
    },
    "scrolled": true
   },
   "outputs": [
    {
     "data": {
      "text/plain": [
       "2002"
      ]
     },
     "execution_count": 65,
     "metadata": {},
     "output_type": "execute_result"
    }
   ],
   "source": [
    "solve(\"I flew a kite the 30th day of the 7th month of the year 2002.\")"
   ]
  }
 ],
 "metadata": {
  "kernelspec": {
   "display_name": "Python 3",
   "language": "python",
   "name": "python3"
  },
  "language_info": {
   "codemirror_mode": {
    "name": "ipython",
    "version": 3
   },
   "file_extension": ".py",
   "mimetype": "text/x-python",
   "name": "python",
   "nbconvert_exporter": "python",
   "pygments_lexer": "ipython3",
   "version": "3.6.6"
  }
 },
 "nbformat": 4,
 "nbformat_minor": 2
}
