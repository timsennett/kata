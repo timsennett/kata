{
 "cells": [
  {
   "cell_type": "markdown",
   "metadata": {},
   "source": [
    "## 09/21/2020\n",
    "### [String Array Duplicates](https://www.codewars.com/kata/59f08f89a5e129c543000069/train/python) // Code Wars\n",
    "\n",
    "*Remove all consecutive duplicate letters from each string in the array.*\n",
    "\n",
    "#### Solution:"
   ]
  },
  {
   "cell_type": "code",
   "execution_count": 1,
   "metadata": {
    "ExecuteTime": {
     "end_time": "2020-09-24T04:59:34.866554Z",
     "start_time": "2020-09-24T04:59:34.854590Z"
    }
   },
   "outputs": [],
   "source": [
    "def dup(arry):\n",
    "    new_arry = []\n",
    "    for string in arry:\n",
    "        i = 1\n",
    "        while i < len(string):\n",
    "            if string[i] == string[i-1]:\n",
    "                string = string[:i-1] + string[i:]\n",
    "            else:\n",
    "                i += 1\n",
    "        new_arry.append(string)\n",
    "    return new_arry"
   ]
  },
  {
   "cell_type": "code",
   "execution_count": 2,
   "metadata": {
    "ExecuteTime": {
     "end_time": "2020-09-24T04:59:35.273634Z",
     "start_time": "2020-09-24T04:59:35.252636Z"
    }
   },
   "outputs": [
    {
     "data": {
      "text/plain": [
       "['abracadabra', 'alote', 'asese']"
      ]
     },
     "execution_count": 2,
     "metadata": {},
     "output_type": "execute_result"
    }
   ],
   "source": [
    "dup([\"abracadabra\",\"allottee\",\"assessee\"])"
   ]
  },
  {
   "cell_type": "markdown",
   "metadata": {},
   "source": [
    "## 09/22/2020\n",
    "### [Is a number prime?](https://www.codewars.com/kata/5262119038c0985a5b00029f/train/python) // Code Wars\n",
    "\n",
    "*Define a function that takes one integer argument and returns logical value `true` or `false` depending on if the integer is a prime.*\n",
    "\n",
    "#### Solution:"
   ]
  },
  {
   "cell_type": "code",
   "execution_count": 3,
   "metadata": {
    "ExecuteTime": {
     "end_time": "2020-09-24T05:00:30.003719Z",
     "start_time": "2020-09-24T05:00:29.997429Z"
    }
   },
   "outputs": [],
   "source": [
    "import math\n",
    "def is_prime(num):\n",
    "    if num < 2:\n",
    "        return False\n",
    "    elif all(num % y != 0 for y in range(2, int(math.sqrt(num))+1)):\n",
    "        return True\n",
    "    else:\n",
    "        return False"
   ]
  },
  {
   "cell_type": "code",
   "execution_count": 4,
   "metadata": {
    "ExecuteTime": {
     "end_time": "2020-09-24T05:00:30.492637Z",
     "start_time": "2020-09-24T05:00:30.481968Z"
    }
   },
   "outputs": [
    {
     "data": {
      "text/plain": [
       "True"
      ]
     },
     "execution_count": 4,
     "metadata": {},
     "output_type": "execute_result"
    }
   ],
   "source": [
    "is_prime(73)"
   ]
  },
  {
   "cell_type": "code",
   "execution_count": 5,
   "metadata": {
    "ExecuteTime": {
     "end_time": "2020-09-24T05:00:30.972853Z",
     "start_time": "2020-09-24T05:00:30.910535Z"
    }
   },
   "outputs": [
    {
     "data": {
      "text/plain": [
       "False"
      ]
     },
     "execution_count": 5,
     "metadata": {},
     "output_type": "execute_result"
    }
   ],
   "source": [
    "is_prime(975)"
   ]
  },
  {
   "cell_type": "code",
   "execution_count": 6,
   "metadata": {
    "ExecuteTime": {
     "end_time": "2020-09-24T05:00:31.308028Z",
     "start_time": "2020-09-24T05:00:31.300706Z"
    }
   },
   "outputs": [
    {
     "data": {
      "text/plain": [
       "False"
      ]
     },
     "execution_count": 6,
     "metadata": {},
     "output_type": "execute_result"
    }
   ],
   "source": [
    "is_prime(-2)"
   ]
  },
  {
   "cell_type": "markdown",
   "metadata": {},
   "source": [
    "## 09/25/2020\n",
    "### [Numbers in strings](https://www.codewars.com/kata/59dd2c38f703c4ae5e000014/train/python) // Code Wars\n",
    "\n",
    "*...Given a string that has lowercase letters and numbers...compare the number groupings and return the largest number.*\n",
    "\n",
    "#### Solution:"
   ]
  },
  {
   "cell_type": "code",
   "execution_count": 57,
   "metadata": {
    "ExecuteTime": {
     "end_time": "2020-09-25T13:28:05.193562Z",
     "start_time": "2020-09-25T13:28:05.186944Z"
    }
   },
   "outputs": [],
   "source": [
    "import re\n",
    "def solve(s):\n",
    "    # \\d looks for digits, adding + makes it look for groups of digits\n",
    "    p = re.compile('\\d+')\n",
    "    # convert list of strings to list of ints\n",
    "    return max(list(map(int, p.findall(s))))"
   ]
  },
  {
   "cell_type": "code",
   "execution_count": 58,
   "metadata": {
    "ExecuteTime": {
     "end_time": "2020-09-25T13:28:05.560811Z",
     "start_time": "2020-09-25T13:28:05.547416Z"
    }
   },
   "outputs": [
    {
     "data": {
      "text/plain": [
       "61"
      ]
     },
     "execution_count": 58,
     "metadata": {},
     "output_type": "execute_result"
    }
   ],
   "source": [
    "solve(\"vih61w8oohj5\")"
   ]
  },
  {
   "cell_type": "code",
   "execution_count": 65,
   "metadata": {
    "ExecuteTime": {
     "end_time": "2020-09-25T13:38:55.327018Z",
     "start_time": "2020-09-25T13:38:55.317158Z"
    },
    "scrolled": true
   },
   "outputs": [
    {
     "data": {
      "text/plain": [
       "2002"
      ]
     },
     "execution_count": 65,
     "metadata": {},
     "output_type": "execute_result"
    }
   ],
   "source": [
    "solve(\"I flew a kite the 30th day of the 7th month of the year 2002.\")"
   ]
  },
  {
   "cell_type": "markdown",
   "metadata": {},
   "source": [
    "## 09/26/2020\n",
    "### [Pete, the baker](https://www.codewars.com/kata/525c65e51bf619685c000059) // Code Wars\n",
    "\n",
    "*Write a function `cakes()`, which takes the recipe (object) and the available ingredients (also an object) and returns the maximum number of cakes Pete can bake (integer). For simplicity there are no units for the amounts (e.g. 1 lb of flour or 200 g of sugar are simply 1 or 200). Ingredients that are not present in the objects, can be considered as 0.*\n",
    "\n",
    "#### Solution:"
   ]
  },
  {
   "cell_type": "code",
   "execution_count": 61,
   "metadata": {
    "ExecuteTime": {
     "end_time": "2020-09-27T02:13:16.115196Z",
     "start_time": "2020-09-27T02:13:16.107288Z"
    }
   },
   "outputs": [],
   "source": [
    "def cakes(recipe, ingredients):\n",
    "    number_cakes = []\n",
    "    for key, val in recipe.items():\n",
    "        if key not in ingredients:\n",
    "            return 0\n",
    "    for key, val in ingredients.items():\n",
    "        if key not in recipe:\n",
    "            continue\n",
    "        ingredient_servings = val // recipe[key]\n",
    "        number_cakes.append(ingredient_servings)\n",
    "    return min(number_cakes)"
   ]
  },
  {
   "cell_type": "code",
   "execution_count": 62,
   "metadata": {
    "ExecuteTime": {
     "end_time": "2020-09-27T02:13:16.662059Z",
     "start_time": "2020-09-27T02:13:16.652813Z"
    }
   },
   "outputs": [
    {
     "data": {
      "text/plain": [
       "0"
      ]
     },
     "execution_count": 62,
     "metadata": {},
     "output_type": "execute_result"
    }
   ],
   "source": [
    "cakes({'apples': 3, 'flour': 300, 'sugar': 150, 'milk': 100, 'oil': 100},\n",
    "      {'sugar': 500, 'flour': 2000, 'milk': 2000})"
   ]
  },
  {
   "cell_type": "code",
   "execution_count": 63,
   "metadata": {
    "ExecuteTime": {
     "end_time": "2020-09-27T02:13:17.409889Z",
     "start_time": "2020-09-27T02:13:17.392548Z"
    }
   },
   "outputs": [
    {
     "data": {
      "text/plain": [
       "2"
      ]
     },
     "execution_count": 63,
     "metadata": {},
     "output_type": "execute_result"
    }
   ],
   "source": [
    "cakes({'flour': 500, 'sugar': 200, 'eggs': 1},\n",
    "      {'flour': 1200, 'sugar': 1200, 'eggs': 5, 'milk': 200})"
   ]
  },
  {
   "cell_type": "markdown",
   "metadata": {},
   "source": [
    "## 09/26/2020\n",
    "### [Simple consecutive pairs](https://www.codewars.com/kata/5a3e1319b6486ac96f000049) // Code Wars\n",
    "\n",
    "*...Return the count of pairs that have consecutive numbers [without overlapping any indices].*\n",
    "\n",
    "#### Solution:"
   ]
  },
  {
   "cell_type": "code",
   "execution_count": 4,
   "metadata": {
    "ExecuteTime": {
     "end_time": "2020-09-29T19:06:02.541246Z",
     "start_time": "2020-09-29T19:06:02.531421Z"
    }
   },
   "outputs": [],
   "source": [
    "def pairs(arg):\n",
    "    pairs = []\n",
    "    if len(arg) % 2 == 1:\n",
    "        arg = arg[:-1]\n",
    "    for index, num in enumerate(arg):\n",
    "        if index % 2 == 0:\n",
    "            if num-1 == arg[index+1] or num+1 == arg[index+1]:\n",
    "                pairs.append([num, arg[index+1]])\n",
    "    print(pairs)\n",
    "    return len(pairs)"
   ]
  },
  {
   "cell_type": "code",
   "execution_count": 5,
   "metadata": {
    "ExecuteTime": {
     "end_time": "2020-09-29T19:06:02.933081Z",
     "start_time": "2020-09-29T19:06:02.920125Z"
    },
    "scrolled": true
   },
   "outputs": [
    {
     "name": "stdout",
     "output_type": "stream",
     "text": [
      "[[21, 20], [95, 94]]\n"
     ]
    },
    {
     "data": {
      "text/plain": [
       "2"
      ]
     },
     "execution_count": 5,
     "metadata": {},
     "output_type": "execute_result"
    }
   ],
   "source": [
    "pairs([21, 20, 22, 40, 39, -56, 30, -55, 95, 94])"
   ]
  },
  {
   "cell_type": "code",
   "execution_count": 6,
   "metadata": {
    "ExecuteTime": {
     "end_time": "2020-09-29T19:06:03.463253Z",
     "start_time": "2020-09-29T19:06:03.455597Z"
    }
   },
   "outputs": [
    {
     "name": "stdout",
     "output_type": "stream",
     "text": [
      "[[1, 2], [-4, -3], [7, 6]]\n"
     ]
    },
    {
     "data": {
      "text/plain": [
       "3"
      ]
     },
     "execution_count": 6,
     "metadata": {},
     "output_type": "execute_result"
    }
   ],
   "source": [
    "pairs([1,2,5,8,-4,-3,7,6,5])"
   ]
  },
  {
   "cell_type": "markdown",
   "metadata": {},
   "source": [
    "## 10/05/2020\n",
    "### [Where my anagrams at?](https://www.codewars.com/kata/523a86aa4230ebb5420001e1) // Code Wars\n",
    "\n",
    "*Write a function that will find all the anagrams of a word from a list...*\n",
    "\n",
    "#### Solution:"
   ]
  },
  {
   "cell_type": "code",
   "execution_count": 11,
   "metadata": {
    "ExecuteTime": {
     "end_time": "2020-10-05T17:22:25.846495Z",
     "start_time": "2020-10-05T17:22:25.836102Z"
    }
   },
   "outputs": [],
   "source": [
    "def anagrams(word, words):\n",
    "    anagrams = []\n",
    "    word = ''.join(sorted(word))\n",
    "    for x in words:\n",
    "        if word == ''.join(sorted(x)):\n",
    "            anagrams.append(x)\n",
    "    return anagrams"
   ]
  },
  {
   "cell_type": "code",
   "execution_count": 10,
   "metadata": {
    "ExecuteTime": {
     "end_time": "2020-10-05T17:22:19.408228Z",
     "start_time": "2020-10-05T17:22:19.361798Z"
    }
   },
   "outputs": [
    {
     "data": {
      "text/plain": [
       "['aabb', 'bbaa']"
      ]
     },
     "execution_count": 10,
     "metadata": {},
     "output_type": "execute_result"
    }
   ],
   "source": [
    "anagrams('abba', ['aabb', 'abcd', 'bbaa', 'dada'])\n",
    "\n",
    "# ['aabb', 'bbaa']"
   ]
  },
  {
   "cell_type": "markdown",
   "metadata": {},
   "source": [
    "## 10/11/2020\n",
    "### [Simple time difference](https://www.codewars.com/kata/5b76a34ff71e5de9db0000f2) // Code Wars\n",
    "\n",
    "*...Determine the maximum time interval between alarms. Each alarm starts ringing at the beginning of the corresponding minute and rings for exactly one minute. The times in the array are not in chronological order. Ignore duplicate times, if any.*\n",
    "\n",
    "#### Solution:"
   ]
  },
  {
   "cell_type": "code",
   "execution_count": 54,
   "metadata": {
    "ExecuteTime": {
     "end_time": "2020-10-11T16:49:37.110303Z",
     "start_time": "2020-10-11T16:49:37.093700Z"
    }
   },
   "outputs": [],
   "source": [
    "from datetime import timedelta\n",
    "import datetime\n",
    "def solve(arr):\n",
    "    arr.sort(key = lambda date: datetime.datetime.strptime(date, '%H:%M'))\n",
    "    times = [datetime.datetime.strptime(time, '%H:%M') for time in arr]\n",
    "    intervals = []\n",
    "    for i in range(len(times)-1):\n",
    "        interval = times[i+1] - times[i]\n",
    "        intervals.append(interval)\n",
    "    intervals.append((times[0] + timedelta(1)) - times[-1])\n",
    "    max_interval = str(max(intervals) - timedelta(minutes=1))[:-3]\n",
    "    if len(max_interval) == 4:\n",
    "        max_interval = '0'+ max_interval\n",
    "    return max_interval"
   ]
  },
  {
   "cell_type": "code",
   "execution_count": 55,
   "metadata": {
    "ExecuteTime": {
     "end_time": "2020-10-11T16:49:37.709048Z",
     "start_time": "2020-10-11T16:49:37.701243Z"
    }
   },
   "outputs": [
    {
     "name": "stdout",
     "output_type": "stream",
     "text": [
      "['04:22', '06:24', '18:05', '23:00']\n"
     ]
    },
    {
     "data": {
      "text/plain": [
       "'11:40'"
      ]
     },
     "execution_count": 55,
     "metadata": {},
     "output_type": "execute_result"
    }
   ],
   "source": [
    "solve([\"23:00\",\"04:22\",\"18:05\",\"06:24\"])"
   ]
  },
  {
   "cell_type": "code",
   "execution_count": 56,
   "metadata": {
    "ExecuteTime": {
     "end_time": "2020-10-11T16:49:38.407832Z",
     "start_time": "2020-10-11T16:49:38.398366Z"
    },
    "scrolled": true
   },
   "outputs": [
    {
     "name": "stdout",
     "output_type": "stream",
     "text": [
      "['06:25', '14:51', '15:30', '15:34', '21:14']\n"
     ]
    },
    {
     "data": {
      "text/plain": [
       "'09:10'"
      ]
     },
     "execution_count": 56,
     "metadata": {},
     "output_type": "execute_result"
    }
   ],
   "source": [
    "solve([\"21:14\", \"15:34\", \"14:51\", \"06:25\", \"15:30\"])"
   ]
  },
  {
   "cell_type": "code",
   "execution_count": 34,
   "metadata": {
    "ExecuteTime": {
     "end_time": "2020-10-14T22:00:14.234212Z",
     "start_time": "2020-10-14T22:00:14.229621Z"
    }
   },
   "outputs": [],
   "source": [
    "stones = 'fbeubrfnbjhb'"
   ]
  },
  {
   "cell_type": "code",
   "execution_count": 37,
   "metadata": {
    "ExecuteTime": {
     "end_time": "2020-10-14T22:00:41.874926Z",
     "start_time": "2020-10-14T22:00:41.867641Z"
    }
   },
   "outputs": [
    {
     "name": "stdout",
     "output_type": "stream",
     "text": [
      "0\n",
      "1\n",
      "2\n",
      "3\n",
      "4\n",
      "5\n",
      "6\n",
      "7\n",
      "8\n",
      "9\n",
      "10\n",
      "11\n"
     ]
    }
   ],
   "source": [
    "for i in range(len(stones)):\n",
    "    print(i)"
   ]
  },
  {
   "cell_type": "markdown",
   "metadata": {},
   "source": [
    "## 10/14/2020\n",
    "### [Stones on the table](https://www.codewars.com/kata/5f70e4cce10f9e0001c8995a) // Code Wars\n",
    "\n",
    "*There are some stones on Bob's table in a row, and each of them can be red, green or blue, indicated by the characters R, G, and B. Help Bob find the minimum number of stones he needs to remove from the table so that the stones in each pair of adjacent stones have different colours.*\n",
    "\n",
    "#### Solution:"
   ]
  },
  {
   "cell_type": "code",
   "execution_count": 75,
   "metadata": {
    "ExecuteTime": {
     "end_time": "2020-10-14T22:20:41.463627Z",
     "start_time": "2020-10-14T22:20:41.457421Z"
    }
   },
   "outputs": [],
   "source": [
    "# simple solution using counter and for loop\n",
    "\n",
    "def solution(stones):\n",
    "    c = 0\n",
    "    for i in range(len(stones)-1):\n",
    "        if stones[i] == stones[i+1]:\n",
    "            c += 1\n",
    "    return c"
   ]
  },
  {
   "cell_type": "code",
   "execution_count": 76,
   "metadata": {
    "ExecuteTime": {
     "end_time": "2020-10-14T22:20:41.808640Z",
     "start_time": "2020-10-14T22:20:41.795891Z"
    }
   },
   "outputs": [
    {
     "data": {
      "text/plain": [
       "3"
      ]
     },
     "execution_count": 76,
     "metadata": {},
     "output_type": "execute_result"
    }
   ],
   "source": [
    "solution('RGGRGBBRGRR')"
   ]
  },
  {
   "cell_type": "code",
   "execution_count": 67,
   "metadata": {
    "ExecuteTime": {
     "end_time": "2020-10-14T22:17:46.306151Z",
     "start_time": "2020-10-14T22:17:46.296907Z"
    },
    "scrolled": true
   },
   "outputs": [
    {
     "data": {
      "text/plain": [
       "9"
      ]
     },
     "execution_count": 67,
     "metadata": {},
     "output_type": "execute_result"
    }
   ],
   "source": [
    "solution('RRRRGGGGBBBB')"
   ]
  },
  {
   "cell_type": "code",
   "execution_count": 70,
   "metadata": {
    "ExecuteTime": {
     "end_time": "2020-10-14T22:18:48.678544Z",
     "start_time": "2020-10-14T22:18:48.672165Z"
    }
   },
   "outputs": [],
   "source": [
    "# alternative solution using list comprehension and zip function\n",
    "\n",
    "def solution(stones):\n",
    "    return sum([1 for x, y in zip(stones, stones[1:]) if x == y])"
   ]
  },
  {
   "cell_type": "code",
   "execution_count": 71,
   "metadata": {
    "ExecuteTime": {
     "end_time": "2020-10-14T22:18:49.063783Z",
     "start_time": "2020-10-14T22:18:49.052955Z"
    },
    "scrolled": true
   },
   "outputs": [
    {
     "data": {
      "text/plain": [
       "3"
      ]
     },
     "execution_count": 71,
     "metadata": {},
     "output_type": "execute_result"
    }
   ],
   "source": [
    "solution('RGGRGBBRGRR')"
   ]
  },
  {
   "cell_type": "code",
   "execution_count": 72,
   "metadata": {
    "ExecuteTime": {
     "end_time": "2020-10-14T22:18:49.904835Z",
     "start_time": "2020-10-14T22:18:49.895220Z"
    },
    "scrolled": true
   },
   "outputs": [
    {
     "data": {
      "text/plain": [
       "9"
      ]
     },
     "execution_count": 72,
     "metadata": {},
     "output_type": "execute_result"
    }
   ],
   "source": [
    "solution('RRRRGGGGBBBB')"
   ]
  },
  {
   "cell_type": "markdown",
   "metadata": {},
   "source": [
    "## 10/23/2020\n",
    "### [Character with the longest consecutive repetition](https://www.codewars.com/kata/586d6cefbcc21eed7a001155) // Code Wars\n",
    "\n",
    "*There are some stones on Bob's table in a row, and each of them can be red, green or blue, indicated by the characters R, G, and B. Help Bob find the minimum number of stones he needs to remove from the table so that the stones in each pair of adjacent stones have different colours.*\n",
    "\n",
    "#### Solution:"
   ]
  },
  {
   "cell_type": "code",
   "execution_count": 89,
   "metadata": {
    "ExecuteTime": {
     "end_time": "2020-10-23T17:37:02.487788Z",
     "start_time": "2020-10-23T17:37:02.480275Z"
    }
   },
   "outputs": [],
   "source": [
    "def longest_repetition(chars):\n",
    "    repeat = []\n",
    "    repeats = []\n",
    "    if chars == '':\n",
    "        return '', 0\n",
    "    else:\n",
    "        for i in range(len(chars)-1):\n",
    "            if chars[i] == chars[i+1]:\n",
    "                repeat.append(chars[i+1])\n",
    "                if i+1 == len(chars)-1:\n",
    "                    repeat.append(chars[i])\n",
    "                    repeats.append(repeat)\n",
    "            else:\n",
    "                repeat.append(chars[i])\n",
    "                repeats.append(repeat)\n",
    "                repeat = []\n",
    "        return max(repeats, key=len)[0], len(max(repeats, key=len))"
   ]
  },
  {
   "cell_type": "code",
   "execution_count": 90,
   "metadata": {
    "ExecuteTime": {
     "end_time": "2020-10-23T17:37:02.908367Z",
     "start_time": "2020-10-23T17:37:02.896414Z"
    }
   },
   "outputs": [
    {
     "data": {
      "text/plain": [
       "('a', 4)"
      ]
     },
     "execution_count": 90,
     "metadata": {},
     "output_type": "execute_result"
    }
   ],
   "source": [
    "longest_repetition('bbbaaabaaaabb')"
   ]
  },
  {
   "cell_type": "markdown",
   "metadata": {},
   "source": [
    "### [Loneliest character](https://www.codewars.com/kata/5f885fa9f130ea00207c7dc8) // Code Wars\n",
    "\n",
    "*Complete the function which accepts a string and return an array of character(s) that have the most spaces to their right and left.*\n",
    "\n",
    "#### Solution:"
   ]
  },
  {
   "cell_type": "code",
   "execution_count": 187,
   "metadata": {
    "ExecuteTime": {
     "end_time": "2020-10-23T20:52:58.001418Z",
     "start_time": "2020-10-23T20:52:57.991528Z"
    }
   },
   "outputs": [],
   "source": [
    "def loneliest(strng):\n",
    "    # get rid of any leading or trailing spaces\n",
    "    while strng[0] == ' ' or strng[-1] == ' ':\n",
    "        if strng[0] == ' ':\n",
    "            strng = strng[1:]\n",
    "        if strng[-1] == ' ':\n",
    "            strng = strng[:-1]\n",
    "    # create dict from strng, populate with each letter from strng as keys\n",
    "    # and the number of spaces preceeding each letter as values\n",
    "    c = 0\n",
    "    d = {}\n",
    "    for i in range(len(strng)):\n",
    "        if strng[i] == ' ':\n",
    "            c += 1\n",
    "        else:\n",
    "            d.update({strng[i]:c})\n",
    "            c = 0\n",
    "    # add next value to current value to get total spaces around each letter\n",
    "    i = 1\n",
    "    for key, val in list(d.items())[:-1]:\n",
    "        d[key] += list(d.values())[i]\n",
    "        i += 1\n",
    "    # return all keys that map to the max value\n",
    "    return [key for key, val in d.items() if val == max(d.values())]"
   ]
  },
  {
   "cell_type": "code",
   "execution_count": 188,
   "metadata": {
    "ExecuteTime": {
     "end_time": "2020-10-23T20:53:04.188406Z",
     "start_time": "2020-10-23T20:53:04.180546Z"
    },
    "scrolled": true
   },
   "outputs": [
    {
     "data": {
      "text/plain": [
       "['b']"
      ]
     },
     "execution_count": 188,
     "metadata": {},
     "output_type": "execute_result"
    }
   ],
   "source": [
    "loneliest('a    b  c  de  ')"
   ]
  },
  {
   "cell_type": "markdown",
   "metadata": {},
   "source": [
    "## 10/29/2020\n",
    "### [L1: Set Alarm](https://www.codewars.com/kata/568dcc3c7f12767a62000038) // Code Wars\n",
    "\n",
    "*Write a function named setAlarm which receives two parameters. The first parameter, employed, is true whenever you are employed and the second parameter, vacation is true whenever you are on vacation. ... The function should return true if you are employed and not on vacation. It should return false otherwise.*\n",
    "\n",
    "#### Solution:"
   ]
  },
  {
   "cell_type": "code",
   "execution_count": 1,
   "metadata": {
    "ExecuteTime": {
     "end_time": "2020-10-29T18:10:43.000278Z",
     "start_time": "2020-10-29T18:10:42.986241Z"
    }
   },
   "outputs": [],
   "source": [
    "def setalarm(employed, vacation):\n",
    "    if employed and not vacation:\n",
    "        return True\n",
    "    else:\n",
    "        return False"
   ]
  },
  {
   "cell_type": "code",
   "execution_count": 2,
   "metadata": {
    "ExecuteTime": {
     "end_time": "2020-10-29T18:10:50.798134Z",
     "start_time": "2020-10-29T18:10:50.780151Z"
    }
   },
   "outputs": [
    {
     "data": {
      "text/plain": [
       "False"
      ]
     },
     "execution_count": 2,
     "metadata": {},
     "output_type": "execute_result"
    }
   ],
   "source": [
    "setalarm(True, True)"
   ]
  },
  {
   "cell_type": "code",
   "execution_count": 3,
   "metadata": {
    "ExecuteTime": {
     "end_time": "2020-10-29T18:10:58.468487Z",
     "start_time": "2020-10-29T18:10:58.458084Z"
    }
   },
   "outputs": [
    {
     "data": {
      "text/plain": [
       "True"
      ]
     },
     "execution_count": 3,
     "metadata": {},
     "output_type": "execute_result"
    }
   ],
   "source": [
    "setalarm(True, False)"
   ]
  },
  {
   "cell_type": "code",
   "execution_count": 4,
   "metadata": {
    "ExecuteTime": {
     "end_time": "2020-10-29T18:11:02.278431Z",
     "start_time": "2020-10-29T18:11:02.261916Z"
    }
   },
   "outputs": [
    {
     "data": {
      "text/plain": [
       "False"
      ]
     },
     "execution_count": 4,
     "metadata": {},
     "output_type": "execute_result"
    }
   ],
   "source": [
    "setalarm(False, True)"
   ]
  },
  {
   "cell_type": "code",
   "execution_count": 5,
   "metadata": {
    "ExecuteTime": {
     "end_time": "2020-10-29T18:11:10.918664Z",
     "start_time": "2020-10-29T18:11:10.910230Z"
    }
   },
   "outputs": [
    {
     "data": {
      "text/plain": [
       "False"
      ]
     },
     "execution_count": 5,
     "metadata": {},
     "output_type": "execute_result"
    }
   ],
   "source": [
    "setalarm(False, False)"
   ]
  },
  {
   "cell_type": "markdown",
   "metadata": {},
   "source": [
    "## 10/30/2020\n",
    "### [Pyramid Array](https://www.codewars.com/kata/515f51d438015969f7000013/train/python) // Code Wars\n",
    "\n",
    "*Write a function that when given a number >= 0, returns an Array of ascending length subarrays.*\n",
    "\n",
    "#### Solution:"
   ]
  },
  {
   "cell_type": "code",
   "execution_count": 1,
   "metadata": {
    "ExecuteTime": {
     "end_time": "2020-10-30T17:19:24.526853Z",
     "start_time": "2020-10-30T17:19:24.519388Z"
    }
   },
   "outputs": [],
   "source": [
    "def pyramid(n):\n",
    "    l = []\n",
    "    if n == 0:\n",
    "        return l\n",
    "    else:\n",
    "        for i in range(n+1):\n",
    "            l.append([1]*i)\n",
    "        return l[1:]"
   ]
  },
  {
   "cell_type": "code",
   "execution_count": 2,
   "metadata": {
    "ExecuteTime": {
     "end_time": "2020-10-30T17:19:25.079623Z",
     "start_time": "2020-10-30T17:19:25.064328Z"
    }
   },
   "outputs": [
    {
     "data": {
      "text/plain": [
       "[]"
      ]
     },
     "execution_count": 2,
     "metadata": {},
     "output_type": "execute_result"
    }
   ],
   "source": [
    "pyramid(0)"
   ]
  },
  {
   "cell_type": "code",
   "execution_count": 3,
   "metadata": {
    "ExecuteTime": {
     "end_time": "2020-10-30T17:19:25.805723Z",
     "start_time": "2020-10-30T17:19:25.797925Z"
    },
    "scrolled": true
   },
   "outputs": [
    {
     "data": {
      "text/plain": [
       "[[1],\n",
       " [1, 1],\n",
       " [1, 1, 1],\n",
       " [1, 1, 1, 1],\n",
       " [1, 1, 1, 1, 1],\n",
       " [1, 1, 1, 1, 1, 1],\n",
       " [1, 1, 1, 1, 1, 1, 1],\n",
       " [1, 1, 1, 1, 1, 1, 1, 1]]"
      ]
     },
     "execution_count": 3,
     "metadata": {},
     "output_type": "execute_result"
    }
   ],
   "source": [
    "pyramid(8)"
   ]
  },
  {
   "cell_type": "markdown",
   "metadata": {},
   "source": [
    "## 11/05/2020\n",
    "### [How good are you really?](https://www.codewars.com/kata/5601409514fc93442500010b) // Code Wars\n",
    "\n",
    "*You receive an array with your peers' test scores. Now calculate the average and compare your score! Return `True` if you're better, else `False`!*\n",
    "\n",
    "#### Solution:"
   ]
  },
  {
   "cell_type": "code",
   "execution_count": 6,
   "metadata": {
    "ExecuteTime": {
     "end_time": "2020-11-05T19:27:18.434319Z",
     "start_time": "2020-11-05T19:27:18.428706Z"
    }
   },
   "outputs": [],
   "source": [
    "def better_than_average(class_points, your_points):\n",
    "    return your_points > sum(class_points)/len(class_points)"
   ]
  },
  {
   "cell_type": "code",
   "execution_count": 7,
   "metadata": {
    "ExecuteTime": {
     "end_time": "2020-11-05T19:27:23.791602Z",
     "start_time": "2020-11-05T19:27:23.783406Z"
    }
   },
   "outputs": [
    {
     "data": {
      "text/plain": [
       "True"
      ]
     },
     "execution_count": 7,
     "metadata": {},
     "output_type": "execute_result"
    }
   ],
   "source": [
    "better_than_average([3,5,7],6)"
   ]
  },
  {
   "cell_type": "code",
   "execution_count": 5,
   "metadata": {
    "ExecuteTime": {
     "end_time": "2020-11-05T19:22:34.851175Z",
     "start_time": "2020-11-05T19:22:34.841155Z"
    },
    "scrolled": true
   },
   "outputs": [
    {
     "data": {
      "text/plain": [
       "False"
      ]
     },
     "execution_count": 5,
     "metadata": {},
     "output_type": "execute_result"
    }
   ],
   "source": [
    "better_than_averg([3,5,7],5)"
   ]
  },
  {
   "cell_type": "markdown",
   "metadata": {},
   "source": [
    "## 11/11/2020\n",
    "### [Decipher this!](https://www.codewars.com/kata/581e014b55f2c52bb00000f8) // Code Wars\n",
    "\n",
    "*You are given a secret message you need to decipher. For each word: (1) the second and the last letter is switched (e.g. Hello becomes Holle), (2) the first letter is replaced by its character code (e.g. H becomes 72).*\n",
    "\n",
    "#### Solution:"
   ]
  },
  {
   "cell_type": "code",
   "execution_count": 69,
   "metadata": {
    "ExecuteTime": {
     "end_time": "2020-11-12T18:39:32.149339Z",
     "start_time": "2020-11-12T18:39:32.128459Z"
    }
   },
   "outputs": [],
   "source": [
    "def decipher_this(string):\n",
    "    words = string.split()\n",
    "    final_words = []\n",
    "    for word in words:\n",
    "        letters = list(word)\n",
    "        nums = []\n",
    "        alphs = []\n",
    "        for letter in letters:\n",
    "            if letter.isnumeric():\n",
    "                nums.append(letter)\n",
    "            else:\n",
    "                alphs.append(letter)\n",
    "        # grab the char that corresponds to the character code in nums\n",
    "        char = chr(int(''.join(nums)))\n",
    "        # put char in the front of the list of letters that make up the word\n",
    "        alphs.insert(0, char)\n",
    "        # switch second and last letter on words longer than 2 elements\n",
    "        if len(alphs) > 2:\n",
    "            # define second and last letters of word\n",
    "            second = alphs[1]\n",
    "            last = alphs[-1]\n",
    "            # replace second letter with last\n",
    "            alphs[1] = last\n",
    "            # replace last letter with second\n",
    "            alphs[-1] = second\n",
    "            # rejoin list of letters into single word\n",
    "            word = ''.join(alphs)\n",
    "            # append word to list of final words\n",
    "            final_words.append(word)\n",
    "        else:\n",
    "            word = ''.join(alphs)\n",
    "            final_words.append(word)\n",
    "    # join final words into single string, return\n",
    "    return ' '.join(final_words)"
   ]
  },
  {
   "cell_type": "code",
   "execution_count": 110,
   "metadata": {
    "ExecuteTime": {
     "end_time": "2020-11-11T18:40:15.084995Z",
     "start_time": "2020-11-11T18:40:15.077921Z"
    }
   },
   "outputs": [
    {
     "data": {
      "text/plain": [
       "'Hello good day'"
      ]
     },
     "execution_count": 110,
     "metadata": {},
     "output_type": "execute_result"
    }
   ],
   "source": [
    "decipher_this('72olle 103doo 100ya')"
   ]
  },
  {
   "cell_type": "code",
   "execution_count": 111,
   "metadata": {
    "ExecuteTime": {
     "end_time": "2020-11-11T18:40:15.468421Z",
     "start_time": "2020-11-11T18:40:15.460436Z"
    }
   },
   "outputs": [
    {
     "data": {
      "text/plain": [
       "'Ready set go'"
      ]
     },
     "execution_count": 111,
     "metadata": {},
     "output_type": "execute_result"
    }
   ],
   "source": [
    "decipher_this('82yade 115te 103o')"
   ]
  },
  {
   "cell_type": "code",
   "execution_count": 70,
   "metadata": {
    "ExecuteTime": {
     "end_time": "2020-11-12T18:39:39.582108Z",
     "start_time": "2020-11-12T18:39:39.464847Z"
    }
   },
   "outputs": [
    {
     "data": {
      "text/plain": [
       "'A wise old owl lived in an oak'"
      ]
     },
     "execution_count": 70,
     "metadata": {},
     "output_type": "execute_result"
    }
   ],
   "source": [
    "decipher_this('65 119esi 111dl 111lw 108dvei 105n 97n 111ka')"
   ]
  },
  {
   "cell_type": "markdown",
   "metadata": {},
   "source": [
    "## 11/12/2020\n",
    "### [Reversed words](https://www.codewars.com/kata/51c8991dee245d7ddf00000e) // Code Wars\n",
    "\n",
    "*Complete the solution so that it reverses all of the words within the string passed in.*\n",
    "\n",
    "#### Solution:"
   ]
  },
  {
   "cell_type": "code",
   "execution_count": 91,
   "metadata": {
    "ExecuteTime": {
     "end_time": "2020-11-12T18:52:13.579743Z",
     "start_time": "2020-11-12T18:52:13.571848Z"
    }
   },
   "outputs": [],
   "source": [
    "def reverse(string):\n",
    "    list_of_reversed_strings = string.split()[::-1]\n",
    "    return ' '.join(list_of_reversed_strings)"
   ]
  },
  {
   "cell_type": "code",
   "execution_count": 92,
   "metadata": {
    "ExecuteTime": {
     "end_time": "2020-11-12T18:52:14.397183Z",
     "start_time": "2020-11-12T18:52:14.374609Z"
    }
   },
   "outputs": [
    {
     "data": {
      "text/plain": [
       "'once live only you'"
      ]
     },
     "execution_count": 92,
     "metadata": {},
     "output_type": "execute_result"
    }
   ],
   "source": [
    "reverse('you only live once')"
   ]
  },
  {
   "cell_type": "markdown",
   "metadata": {},
   "source": [
    "### [Removing elements](https://www.codewars.com/kata/5769b3802ae6f8e4890009d2/train/python) // Code Wars\n",
    "\n",
    "*Take an array and remove every second element from the array. Always keep the first element and start removing with the next element.*\n",
    "\n",
    "#### Solution:"
   ]
  },
  {
   "cell_type": "code",
   "execution_count": 93,
   "metadata": {
    "ExecuteTime": {
     "end_time": "2020-11-12T20:30:28.237217Z",
     "start_time": "2020-11-12T20:30:28.211477Z"
    }
   },
   "outputs": [],
   "source": [
    "def remove_every_other(my_list):\n",
    "    new_list = []\n",
    "    for i, e in enumerate(my_list):\n",
    "        if i%2 == 0:\n",
    "            new_list.append(e)\n",
    "    return new_list"
   ]
  },
  {
   "cell_type": "code",
   "execution_count": 94,
   "metadata": {
    "ExecuteTime": {
     "end_time": "2020-11-12T20:30:43.855670Z",
     "start_time": "2020-11-12T20:30:43.842415Z"
    }
   },
   "outputs": [
    {
     "data": {
      "text/plain": [
       "[1, 3, 5, 7, 9]"
      ]
     },
     "execution_count": 94,
     "metadata": {},
     "output_type": "execute_result"
    }
   ],
   "source": [
    "remove_every_other([1,2,3,4,5,6,7,8,9,10])"
   ]
  },
  {
   "cell_type": "markdown",
   "metadata": {},
   "source": [
    "## 11/19/2020\n",
    "### [Grasshopper - Summation](https://www.codewars.com/kata/55d24f55d7dd296eb9000030) // Code Wars\n",
    "\n",
    "*Write a program that finds the summation of every number from 1 to num. The number will always be a positive integer greater than 0.*\n",
    "\n",
    "#### Solution:"
   ]
  },
  {
   "cell_type": "code",
   "execution_count": 5,
   "metadata": {
    "ExecuteTime": {
     "end_time": "2020-11-19T18:58:16.251001Z",
     "start_time": "2020-11-19T18:58:16.221590Z"
    }
   },
   "outputs": [],
   "source": [
    "def summation(num):\n",
    "    return sum(list(range(num+1)))"
   ]
  },
  {
   "cell_type": "code",
   "execution_count": 6,
   "metadata": {
    "ExecuteTime": {
     "end_time": "2020-11-19T18:58:16.887261Z",
     "start_time": "2020-11-19T18:58:16.879432Z"
    }
   },
   "outputs": [
    {
     "data": {
      "text/plain": [
       "120"
      ]
     },
     "execution_count": 6,
     "metadata": {},
     "output_type": "execute_result"
    }
   ],
   "source": [
    "summation(15)"
   ]
  },
  {
   "cell_type": "markdown",
   "metadata": {},
   "source": [
    "### [Fake binary](https://www.codewars.com/kata/57eae65a4321032ce000002d) // Code Wars\n",
    "\n",
    "*Given a string of digits, you should replace any digit below 5 with '0' and any digit 5 and above with '1'. Return the resulting string.*\n",
    "\n",
    "#### Solution:"
   ]
  },
  {
   "cell_type": "code",
   "execution_count": 49,
   "metadata": {
    "ExecuteTime": {
     "end_time": "2020-11-19T19:18:17.105449Z",
     "start_time": "2020-11-19T19:18:17.072806Z"
    }
   },
   "outputs": [],
   "source": [
    "def fake_bin(string):\n",
    "    new_string = \"\"\n",
    "    for num in string:\n",
    "        if num in (\"01234\"):\n",
    "            new_string = new_string + '0'\n",
    "        else:\n",
    "            new_string = new_string + '1'\n",
    "    return new_string"
   ]
  },
  {
   "cell_type": "code",
   "execution_count": 45,
   "metadata": {
    "ExecuteTime": {
     "end_time": "2020-11-19T19:16:47.068792Z",
     "start_time": "2020-11-19T19:16:47.044269Z"
    },
    "scrolled": true
   },
   "outputs": [
    {
     "data": {
      "text/plain": [
       "'000111'"
      ]
     },
     "execution_count": 45,
     "metadata": {},
     "output_type": "execute_result"
    }
   ],
   "source": [
    "fake_bin(\"222888\")"
   ]
  },
  {
   "cell_type": "code",
   "execution_count": 46,
   "metadata": {
    "ExecuteTime": {
     "end_time": "2020-11-19T19:16:48.804181Z",
     "start_time": "2020-11-19T19:16:48.782997Z"
    }
   },
   "outputs": [
    {
     "data": {
      "text/plain": [
       "'010101'"
      ]
     },
     "execution_count": 46,
     "metadata": {},
     "output_type": "execute_result"
    }
   ],
   "source": [
    "fake_bin(\"282828\")"
   ]
  },
  {
   "cell_type": "code",
   "execution_count": 47,
   "metadata": {
    "ExecuteTime": {
     "end_time": "2020-11-19T19:16:51.276645Z",
     "start_time": "2020-11-19T19:16:51.242452Z"
    }
   },
   "outputs": [
    {
     "data": {
      "text/plain": [
       "'1001100010'"
      ]
     },
     "execution_count": 47,
     "metadata": {},
     "output_type": "execute_result"
    }
   ],
   "source": [
    "fake_bin(\"6135912174\")"
   ]
  },
  {
   "cell_type": "code",
   "execution_count": null,
   "metadata": {},
   "outputs": [],
   "source": []
  }
 ],
 "metadata": {
  "kernelspec": {
   "display_name": "Python 3",
   "language": "python",
   "name": "python3"
  },
  "language_info": {
   "codemirror_mode": {
    "name": "ipython",
    "version": 3
   },
   "file_extension": ".py",
   "mimetype": "text/x-python",
   "name": "python",
   "nbconvert_exporter": "python",
   "pygments_lexer": "ipython3",
   "version": "3.6.6"
  }
 },
 "nbformat": 4,
 "nbformat_minor": 2
}
